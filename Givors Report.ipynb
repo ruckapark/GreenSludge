{
 "cells": [
  {
   "cell_type": "markdown",
   "id": "36985e80",
   "metadata": {},
   "source": [
    "## Report\n",
    "\n",
    "Introduction text to report"
   ]
  },
  {
   "cell_type": "code",
   "execution_count": 1,
   "id": "27437aa2",
   "metadata": {},
   "outputs": [],
   "source": [
    "#Plot figures or show as image"
   ]
  },
  {
   "cell_type": "code",
   "execution_count": 2,
   "id": "7a2e1996",
   "metadata": {},
   "outputs": [],
   "source": [
    "#conc 0"
   ]
  },
  {
   "cell_type": "markdown",
   "id": "a97f1268",
   "metadata": {},
   "source": [
    "Show results for each test"
   ]
  },
  {
   "cell_type": "code",
   "execution_count": null,
   "id": "017984f8",
   "metadata": {},
   "outputs": [],
   "source": []
  }
 ],
 "metadata": {
  "kernelspec": {
   "display_name": "Python 3 (ipykernel)",
   "language": "python",
   "name": "python3"
  },
  "language_info": {
   "codemirror_mode": {
    "name": "ipython",
    "version": 3
   },
   "file_extension": ".py",
   "mimetype": "text/x-python",
   "name": "python",
   "nbconvert_exporter": "python",
   "pygments_lexer": "ipython3",
   "version": "3.8.3"
  }
 },
 "nbformat": 4,
 "nbformat_minor": 5
}
